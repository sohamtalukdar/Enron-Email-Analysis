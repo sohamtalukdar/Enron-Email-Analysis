{
  "nbformat": 4,
  "nbformat_minor": 0,
  "metadata": {
    "colab": {
      "provenance": [],
      "authorship_tag": "ABX9TyMgBuaEPTkwXlXw1ErwgzLa",
      "include_colab_link": true
    },
    "kernelspec": {
      "name": "python3",
      "display_name": "Python 3"
    },
    "language_info": {
      "name": "python"
    }
  },
  "cells": [
    {
      "cell_type": "markdown",
      "metadata": {
        "id": "view-in-github",
        "colab_type": "text"
      },
      "source": [
        "<a href=\"https://colab.research.google.com/github/sohamtalukdar/Enron-Email-Analysis/blob/main/Vlabs.ipynb\" target=\"_parent\"><img src=\"https://colab.research.google.com/assets/colab-badge.svg\" alt=\"Open In Colab\"/></a>"
      ]
    },
    {
      "cell_type": "code",
      "execution_count": 9,
      "metadata": {
        "colab": {
          "base_uri": "https://localhost:8080/"
        },
        "id": "TtE8NqFIVqCh",
        "outputId": "bca084da-8fe3-48d6-f000-368802301d4d"
      },
      "outputs": [
        {
          "output_type": "stream",
          "name": "stdout",
          "text": [
            "Drive already mounted at /content/drive; to attempt to forcibly remount, call drive.mount(\"/content/drive\", force_remount=True).\n"
          ]
        }
      ],
      "source": [
        "from google.colab import drive\n",
        "\n",
        "# This will prompt for authorization.\n",
        "drive.mount('/content/drive')"
      ]
    },
    {
      "cell_type": "code",
      "source": [
        "!mkdir \"/content/drive/MyDrive/maildir/\"\n",
        "!tar -xzvf \"/content/drive/MyDrive/enron_with_categories.tar.gz\" -C \"/content/drive/MyDrive/maildir/\""
      ],
      "metadata": {
        "id": "zjub9pFfV9Gs"
      },
      "execution_count": null,
      "outputs": []
    },
    {
      "cell_type": "code",
      "source": [
        "import pandas as pd \n",
        "import csv\n",
        "import os"
      ],
      "metadata": {
        "id": "DMND11GOR5J1"
      },
      "execution_count": 73,
      "outputs": []
    },
    {
      "cell_type": "code",
      "source": [
        "import csv\n",
        "import os\n",
        "\n",
        "# Map folder names to label values\n",
        "labels = {\n",
        "    \"1\": \"Company Business, Strategy, etc.\",\n",
        "    \"2\": \"Purely Personal\",\n",
        "    \"3\": \"Personal but in professional context\",\n",
        "    \"4\": \"Logistic Arrangements\",\n",
        "    \"5\": \"Status arrangements\",\n",
        "    \"6\": \"Document editing/checking\",\n",
        "    \"7\": \"Empty message\",\n",
        "    \"8\": \"Empty message\"\n",
        "}\n",
        "\n",
        "root_directory = '/content/drive/MyDrive/maildir/enron_with_categories/'\n",
        "fields = [\"Message Body\", \"Company Business, Strategy, etc.\", \"Number\"]\n",
        "rows = []\n",
        "\n",
        "for folder_name in os.listdir(root_directory):\n",
        "    folder_path = os.path.join(root_directory, folder_name)\n",
        "    if os.path.isdir(folder_path):\n",
        "        label = labels[folder_name]\n",
        "        for filename in os.listdir(folder_path):\n",
        "            if filename.endswith(\".txt\"):\n",
        "                with open(os.path.join(folder_path, filename), 'r') as f:\n",
        "                    data = f.read()\n",
        "                    message_body = data.split(\"\\n\\n\")[-1]\n",
        "                    number = int(filename.split(\".\")[0])\n",
        "                    rows.append({\"Message Body\": message_body, \"Company Business, Strategy, etc.\": label, \"Number\": number})\n",
        "\n",
        "with open(\"email_bodies.csv\", \"w\", newline=\"\") as f:\n",
        "    writer = csv.DictWriter(f, fieldnames=fields)\n",
        "    writer.writeheader()\n",
        "    for row in rows:\n",
        "        writer.writerow(row)\n"
      ],
      "metadata": {
        "id": "adU8npUuHmzf"
      },
      "execution_count": 71,
      "outputs": []
    },
    {
      "cell_type": "code",
      "source": [
        "pd.read_csv(\"email_bodies.csv\")"
      ],
      "metadata": {
        "colab": {
          "base_uri": "https://localhost:8080/",
          "height": 424
        },
        "id": "RY0QO0OyPDnt",
        "outputId": "92f4002f-8cda-4f87-9c05-9e5588566e44"
      },
      "execution_count": 75,
      "outputs": [
        {
          "output_type": "execute_result",
          "data": {
            "text/plain": [
              "                                           Message Body  \\\n",
              "0                                                   NaN   \n",
              "1                                      Bonne \\nEB1669B    \n",
              "2                                                   NaN   \n",
              "3     Will provide a further report on market-based ...   \n",
              "4     Judge asked everyone to consider how to \"Share...   \n",
              "...                                                 ...   \n",
              "1697   - #92332 v1 - Verification - Interrogatories.wpd   \n",
              "1698                                                 \\n   \n",
              "1699  +---------------------------------------------...   \n",
              "1700  \\nSue Mara\\nEnron Corp.\\nTel: (415) 782-7802\\n...   \n",
              "1701                                                NaN   \n",
              "\n",
              "      Company Business, Strategy, etc.  Number  \n",
              "0     Company Business, Strategy, etc.  114715  \n",
              "1     Company Business, Strategy, etc.  229405  \n",
              "2     Company Business, Strategy, etc.  232795  \n",
              "3     Company Business, Strategy, etc.   62815  \n",
              "4     Company Business, Strategy, etc.  118871  \n",
              "...                                ...     ...  \n",
              "1697                     Empty message  232322  \n",
              "1698                     Empty message  175448  \n",
              "1699                     Empty message  175814  \n",
              "1700                     Empty message  175816  \n",
              "1701                     Empty message  175841  \n",
              "\n",
              "[1702 rows x 3 columns]"
            ],
            "text/html": [
              "\n",
              "  <div id=\"df-7a92e378-730c-4ac3-a98f-34476caf8611\">\n",
              "    <div class=\"colab-df-container\">\n",
              "      <div>\n",
              "<style scoped>\n",
              "    .dataframe tbody tr th:only-of-type {\n",
              "        vertical-align: middle;\n",
              "    }\n",
              "\n",
              "    .dataframe tbody tr th {\n",
              "        vertical-align: top;\n",
              "    }\n",
              "\n",
              "    .dataframe thead th {\n",
              "        text-align: right;\n",
              "    }\n",
              "</style>\n",
              "<table border=\"1\" class=\"dataframe\">\n",
              "  <thead>\n",
              "    <tr style=\"text-align: right;\">\n",
              "      <th></th>\n",
              "      <th>Message Body</th>\n",
              "      <th>Company Business, Strategy, etc.</th>\n",
              "      <th>Number</th>\n",
              "    </tr>\n",
              "  </thead>\n",
              "  <tbody>\n",
              "    <tr>\n",
              "      <th>0</th>\n",
              "      <td>NaN</td>\n",
              "      <td>Company Business, Strategy, etc.</td>\n",
              "      <td>114715</td>\n",
              "    </tr>\n",
              "    <tr>\n",
              "      <th>1</th>\n",
              "      <td>Bonne \\nEB1669B</td>\n",
              "      <td>Company Business, Strategy, etc.</td>\n",
              "      <td>229405</td>\n",
              "    </tr>\n",
              "    <tr>\n",
              "      <th>2</th>\n",
              "      <td>NaN</td>\n",
              "      <td>Company Business, Strategy, etc.</td>\n",
              "      <td>232795</td>\n",
              "    </tr>\n",
              "    <tr>\n",
              "      <th>3</th>\n",
              "      <td>Will provide a further report on market-based ...</td>\n",
              "      <td>Company Business, Strategy, etc.</td>\n",
              "      <td>62815</td>\n",
              "    </tr>\n",
              "    <tr>\n",
              "      <th>4</th>\n",
              "      <td>Judge asked everyone to consider how to \"Share...</td>\n",
              "      <td>Company Business, Strategy, etc.</td>\n",
              "      <td>118871</td>\n",
              "    </tr>\n",
              "    <tr>\n",
              "      <th>...</th>\n",
              "      <td>...</td>\n",
              "      <td>...</td>\n",
              "      <td>...</td>\n",
              "    </tr>\n",
              "    <tr>\n",
              "      <th>1697</th>\n",
              "      <td>- #92332 v1 - Verification - Interrogatories.wpd</td>\n",
              "      <td>Empty message</td>\n",
              "      <td>232322</td>\n",
              "    </tr>\n",
              "    <tr>\n",
              "      <th>1698</th>\n",
              "      <td>\\n</td>\n",
              "      <td>Empty message</td>\n",
              "      <td>175448</td>\n",
              "    </tr>\n",
              "    <tr>\n",
              "      <th>1699</th>\n",
              "      <td>+---------------------------------------------...</td>\n",
              "      <td>Empty message</td>\n",
              "      <td>175814</td>\n",
              "    </tr>\n",
              "    <tr>\n",
              "      <th>1700</th>\n",
              "      <td>\\nSue Mara\\nEnron Corp.\\nTel: (415) 782-7802\\n...</td>\n",
              "      <td>Empty message</td>\n",
              "      <td>175816</td>\n",
              "    </tr>\n",
              "    <tr>\n",
              "      <th>1701</th>\n",
              "      <td>NaN</td>\n",
              "      <td>Empty message</td>\n",
              "      <td>175841</td>\n",
              "    </tr>\n",
              "  </tbody>\n",
              "</table>\n",
              "<p>1702 rows × 3 columns</p>\n",
              "</div>\n",
              "      <button class=\"colab-df-convert\" onclick=\"convertToInteractive('df-7a92e378-730c-4ac3-a98f-34476caf8611')\"\n",
              "              title=\"Convert this dataframe to an interactive table.\"\n",
              "              style=\"display:none;\">\n",
              "        \n",
              "  <svg xmlns=\"http://www.w3.org/2000/svg\" height=\"24px\"viewBox=\"0 0 24 24\"\n",
              "       width=\"24px\">\n",
              "    <path d=\"M0 0h24v24H0V0z\" fill=\"none\"/>\n",
              "    <path d=\"M18.56 5.44l.94 2.06.94-2.06 2.06-.94-2.06-.94-.94-2.06-.94 2.06-2.06.94zm-11 1L8.5 8.5l.94-2.06 2.06-.94-2.06-.94L8.5 2.5l-.94 2.06-2.06.94zm10 10l.94 2.06.94-2.06 2.06-.94-2.06-.94-.94-2.06-.94 2.06-2.06.94z\"/><path d=\"M17.41 7.96l-1.37-1.37c-.4-.4-.92-.59-1.43-.59-.52 0-1.04.2-1.43.59L10.3 9.45l-7.72 7.72c-.78.78-.78 2.05 0 2.83L4 21.41c.39.39.9.59 1.41.59.51 0 1.02-.2 1.41-.59l7.78-7.78 2.81-2.81c.8-.78.8-2.07 0-2.86zM5.41 20L4 18.59l7.72-7.72 1.47 1.35L5.41 20z\"/>\n",
              "  </svg>\n",
              "      </button>\n",
              "      \n",
              "  <style>\n",
              "    .colab-df-container {\n",
              "      display:flex;\n",
              "      flex-wrap:wrap;\n",
              "      gap: 12px;\n",
              "    }\n",
              "\n",
              "    .colab-df-convert {\n",
              "      background-color: #E8F0FE;\n",
              "      border: none;\n",
              "      border-radius: 50%;\n",
              "      cursor: pointer;\n",
              "      display: none;\n",
              "      fill: #1967D2;\n",
              "      height: 32px;\n",
              "      padding: 0 0 0 0;\n",
              "      width: 32px;\n",
              "    }\n",
              "\n",
              "    .colab-df-convert:hover {\n",
              "      background-color: #E2EBFA;\n",
              "      box-shadow: 0px 1px 2px rgba(60, 64, 67, 0.3), 0px 1px 3px 1px rgba(60, 64, 67, 0.15);\n",
              "      fill: #174EA6;\n",
              "    }\n",
              "\n",
              "    [theme=dark] .colab-df-convert {\n",
              "      background-color: #3B4455;\n",
              "      fill: #D2E3FC;\n",
              "    }\n",
              "\n",
              "    [theme=dark] .colab-df-convert:hover {\n",
              "      background-color: #434B5C;\n",
              "      box-shadow: 0px 1px 3px 1px rgba(0, 0, 0, 0.15);\n",
              "      filter: drop-shadow(0px 1px 2px rgba(0, 0, 0, 0.3));\n",
              "      fill: #FFFFFF;\n",
              "    }\n",
              "  </style>\n",
              "\n",
              "      <script>\n",
              "        const buttonEl =\n",
              "          document.querySelector('#df-7a92e378-730c-4ac3-a98f-34476caf8611 button.colab-df-convert');\n",
              "        buttonEl.style.display =\n",
              "          google.colab.kernel.accessAllowed ? 'block' : 'none';\n",
              "\n",
              "        async function convertToInteractive(key) {\n",
              "          const element = document.querySelector('#df-7a92e378-730c-4ac3-a98f-34476caf8611');\n",
              "          const dataTable =\n",
              "            await google.colab.kernel.invokeFunction('convertToInteractive',\n",
              "                                                     [key], {});\n",
              "          if (!dataTable) return;\n",
              "\n",
              "          const docLinkHtml = 'Like what you see? Visit the ' +\n",
              "            '<a target=\"_blank\" href=https://colab.research.google.com/notebooks/data_table.ipynb>data table notebook</a>'\n",
              "            + ' to learn more about interactive tables.';\n",
              "          element.innerHTML = '';\n",
              "          dataTable['output_type'] = 'display_data';\n",
              "          await google.colab.output.renderOutput(dataTable, element);\n",
              "          const docLink = document.createElement('div');\n",
              "          docLink.innerHTML = docLinkHtml;\n",
              "          element.appendChild(docLink);\n",
              "        }\n",
              "      </script>\n",
              "    </div>\n",
              "  </div>\n",
              "  "
            ]
          },
          "metadata": {},
          "execution_count": 75
        }
      ]
    },
    {
      "cell_type": "code",
      "source": [],
      "metadata": {
        "id": "1xpJRoBlTXZ3"
      },
      "execution_count": null,
      "outputs": []
    }
  ]
}