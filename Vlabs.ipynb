{
  "nbformat": 4,
  "nbformat_minor": 0,
  "metadata": {
    "colab": {
      "provenance": [],
      "authorship_tag": "ABX9TyORgV5IY/7KOO2PaFwbE4WV",
      "include_colab_link": true
    },
    "kernelspec": {
      "name": "python3",
      "display_name": "Python 3"
    },
    "language_info": {
      "name": "python"
    }
  },
  "cells": [
    {
      "cell_type": "markdown",
      "metadata": {
        "id": "view-in-github",
        "colab_type": "text"
      },
      "source": [
        "<a href=\"https://colab.research.google.com/github/sohamtalukdar/Enron-Email-Analysis/blob/main/Vlabs.ipynb\" target=\"_parent\"><img src=\"https://colab.research.google.com/assets/colab-badge.svg\" alt=\"Open In Colab\"/></a>"
      ]
    },
    {
      "cell_type": "code",
      "execution_count": 17,
      "metadata": {
        "id": "TtE8NqFIVqCh",
        "colab": {
          "base_uri": "https://localhost:8080/"
        },
        "outputId": "322aa6c1-252a-4579-a715-86362dc6c9f8"
      },
      "outputs": [
        {
          "output_type": "stream",
          "name": "stdout",
          "text": [
            "Drive already mounted at /content/drive; to attempt to forcibly remount, call drive.mount(\"/content/drive\", force_remount=True).\n"
          ]
        }
      ],
      "source": [
        "from google.colab import drive\n",
        "# This will prompt for authorization.\n",
        "drive.mount('/content/drive')"
      ]
    },
    {
      "cell_type": "code",
      "source": [
        "!mkdir \"/content/drive/MyDrive/maildir/\"\n",
        "!tar -xzvf \"/content/drive/MyDrive/enron_with_categories.tar.gz\" -C \"/content/drive/MyDrive/maildir/\""
      ],
      "metadata": {
        "id": "zjub9pFfV9Gs"
      },
      "execution_count": null,
      "outputs": []
    },
    {
      "cell_type": "code",
      "source": [
        "import os\n",
        "import csv\n",
        "import numpy as np\n",
        "import pandas as pd\n",
        "import nltk\n",
        "nltk.download('punkt')\n",
        "nltk.download('stopwords')\n",
        "from nltk.tokenize import word_tokenize\n",
        "from nltk.corpus import stopwords\n",
        "from nltk.stem import PorterStemmer\n",
        "import nltk.stem as stemmer\n",
        "from sklearn.feature_extraction.text import TfidfVectorizer\n",
        "import string\n",
        "from sklearn.feature_extraction.text import CountVectorizer\n",
        "import re\n",
        "from nltk.stem import SnowballStemmer\n",
        "from sklearn.naive_bayes import MultinomialNB\n",
        "from sklearn.metrics import accuracy_score, classification_report\n",
        "from sklearn.preprocessing import StandardScaler\n",
        "from sklearn.ensemble import RandomForestClassifier\n",
        "import gensim\n",
        "from sklearn.metrics import accuracy_score, precision_score, recall_score, f1_score\n",
        "from gensim.models import Word2Vec\n",
        "from sklearn.model_selection import train_test_split\n",
        "from sklearn.svm import SVC\n"
      ],
      "metadata": {
        "id": "DMND11GOR5J1",
        "colab": {
          "base_uri": "https://localhost:8080/"
        },
        "outputId": "ebca361d-c405-445b-e70f-ea1bf6e51f1f"
      },
      "execution_count": 49,
      "outputs": [
        {
          "output_type": "stream",
          "name": "stderr",
          "text": [
            "[nltk_data] Downloading package punkt to /root/nltk_data...\n",
            "[nltk_data]   Package punkt is already up-to-date!\n",
            "[nltk_data] Downloading package stopwords to /root/nltk_data...\n",
            "[nltk_data]   Package stopwords is already up-to-date!\n"
          ]
        }
      ]
    },
    {
      "cell_type": "code",
      "source": [
        "#Map folder names to label values\n",
        "labels = {\n",
        "    \"1\": \"Company Business, Strategy, etc.\",\n",
        "    \"2\": \"Purely Personal\",\n",
        "    \"3\": \"Personal but in professional context\",\n",
        "    \"4\": \"Logistic Arrangements\",\n",
        "    \"5\": \"Status arrangements\",\n",
        "    \"6\": \"Document editing/checking\",\n",
        "    \"7\": \"Empty message (due to missing attachment)\",\n",
        "    \"8\": \"Empty message\"\n",
        "}\n",
        "\n",
        "root_directory = '/content/drive/MyDrive/maildir/enron_with_categories/'\n",
        "rows = []\n",
        "\n",
        "for folder_name in os.listdir(root_directory):\n",
        "    folder_path = os.path.join(root_directory, folder_name)\n",
        "    if os.path.isdir(folder_path):\n",
        "        label = labels[folder_name]\n",
        "        for filename in os.listdir(folder_path):\n",
        "            if filename.endswith(\".txt\"):\n",
        "                with open(os.path.join(folder_path, filename), 'r') as f:\n",
        "                    data = f.read()\n",
        "                    message_body = data.split(\"\\n\\n\")[-1]\n",
        "                    number = int(filename.split(\".\")[0])\n",
        "                    rows.append({\"#\": number,\"Label\": label,\"Message\": message_body})\n",
        "\n",
        "df = pd.DataFrame(rows)\n",
        "\n",
        "# Clean the email message\n",
        "df['Message'] = df['Message'].apply(lambda x: re.sub(r'[^\\w\\s]|\\d', '', x).lower())\n",
        "df['Message'] = df['Message'].apply(lambda x: re.sub(r'\\S+@\\S+', '', x))\n",
        "df['Message'] = df['Message'].apply(lambda x: re.sub(r'http\\S+', '', x))\n",
        "df['Message'] = df['Message'].apply(lambda x: \" \".join([word for word in word_tokenize(x) if word.isalpha() and word not in set(stopwords.words(\"english\"))]))\n",
        "df['Message'] = df['Message'].apply(lambda x: \" \".join([SnowballStemmer(\"english\").stem(word) for word in x.split()]))\n",
        "\n",
        "\n",
        "\n",
        "# Drop rows with \"Empty message (due to missing attachment)\" or \"Empty message\" labels\n",
        "df = df[df['Label'] != 'Empty message (due to missing attachment)']\n",
        "df = df[df['Label'] != 'Empty message']\n",
        "\n",
        "# Drop rows with empty Message column\n",
        "df = df.dropna(subset=['Message'])\n",
        "df = df[df['Message'] != '']\n",
        "\n",
        "# Remove duplicates\n",
        "df.drop_duplicates(inplace=True)\n",
        "\n"
      ],
      "metadata": {
        "id": "Em1e6pSxhhRi"
      },
      "execution_count": 24,
      "outputs": []
    },
    {
      "cell_type": "code",
      "source": [
        "df.shape\n",
        "df"
      ],
      "metadata": {
        "colab": {
          "base_uri": "https://localhost:8080/",
          "height": 424
        },
        "id": "XOGAMFtrTBak",
        "outputId": "3db1b972-35a1-453c-c8ad-db27202c5ba4"
      },
      "execution_count": 40,
      "outputs": [
        {
          "output_type": "execute_result",
          "data": {
            "text/plain": [
              "           #                             Label  \\\n",
              "1      54659                   Purely Personal   \n",
              "6       9176                   Purely Personal   \n",
              "7     174265                   Purely Personal   \n",
              "8      54544                   Purely Personal   \n",
              "9      54545                   Purely Personal   \n",
              "...      ...                               ...   \n",
              "1695  201643  Company Business, Strategy, etc.   \n",
              "1698  178056  Company Business, Strategy, etc.   \n",
              "1699    9167  Company Business, Strategy, etc.   \n",
              "1700    9177  Company Business, Strategy, etc.   \n",
              "1701    9175  Company Business, Strategy, etc.   \n",
              "\n",
              "                                                Message  \n",
              "1     hormon hostag know day month man open mouth ta...  \n",
              "6     call nbcs cant see tv cheap rate ploy work the...  \n",
              "7                    test note capabl enron home comput  \n",
              "8                                            kevin moor  \n",
              "9     spoke friend ibm san jose offic ibm fellow adv...  \n",
              "...                                                 ...  \n",
              "1695  srp epng settlecvrdoc srp epng capac proposald...  \n",
              "1698                 embed pictur devic independ bitmap  \n",
              "1699  perspect simpl pie face protest organ sophist ...  \n",
              "1700  jeff prepar attach chart captur idea discuss l...  \n",
              "1701  san francisco texa energi execut said warn ign...  \n",
              "\n",
              "[875 rows x 3 columns]"
            ],
            "text/html": [
              "\n",
              "  <div id=\"df-71fda940-35c2-4df7-8d0c-75f98cdb3695\">\n",
              "    <div class=\"colab-df-container\">\n",
              "      <div>\n",
              "<style scoped>\n",
              "    .dataframe tbody tr th:only-of-type {\n",
              "        vertical-align: middle;\n",
              "    }\n",
              "\n",
              "    .dataframe tbody tr th {\n",
              "        vertical-align: top;\n",
              "    }\n",
              "\n",
              "    .dataframe thead th {\n",
              "        text-align: right;\n",
              "    }\n",
              "</style>\n",
              "<table border=\"1\" class=\"dataframe\">\n",
              "  <thead>\n",
              "    <tr style=\"text-align: right;\">\n",
              "      <th></th>\n",
              "      <th>#</th>\n",
              "      <th>Label</th>\n",
              "      <th>Message</th>\n",
              "    </tr>\n",
              "  </thead>\n",
              "  <tbody>\n",
              "    <tr>\n",
              "      <th>1</th>\n",
              "      <td>54659</td>\n",
              "      <td>Purely Personal</td>\n",
              "      <td>hormon hostag know day month man open mouth ta...</td>\n",
              "    </tr>\n",
              "    <tr>\n",
              "      <th>6</th>\n",
              "      <td>9176</td>\n",
              "      <td>Purely Personal</td>\n",
              "      <td>call nbcs cant see tv cheap rate ploy work the...</td>\n",
              "    </tr>\n",
              "    <tr>\n",
              "      <th>7</th>\n",
              "      <td>174265</td>\n",
              "      <td>Purely Personal</td>\n",
              "      <td>test note capabl enron home comput</td>\n",
              "    </tr>\n",
              "    <tr>\n",
              "      <th>8</th>\n",
              "      <td>54544</td>\n",
              "      <td>Purely Personal</td>\n",
              "      <td>kevin moor</td>\n",
              "    </tr>\n",
              "    <tr>\n",
              "      <th>9</th>\n",
              "      <td>54545</td>\n",
              "      <td>Purely Personal</td>\n",
              "      <td>spoke friend ibm san jose offic ibm fellow adv...</td>\n",
              "    </tr>\n",
              "    <tr>\n",
              "      <th>...</th>\n",
              "      <td>...</td>\n",
              "      <td>...</td>\n",
              "      <td>...</td>\n",
              "    </tr>\n",
              "    <tr>\n",
              "      <th>1695</th>\n",
              "      <td>201643</td>\n",
              "      <td>Company Business, Strategy, etc.</td>\n",
              "      <td>srp epng settlecvrdoc srp epng capac proposald...</td>\n",
              "    </tr>\n",
              "    <tr>\n",
              "      <th>1698</th>\n",
              "      <td>178056</td>\n",
              "      <td>Company Business, Strategy, etc.</td>\n",
              "      <td>embed pictur devic independ bitmap</td>\n",
              "    </tr>\n",
              "    <tr>\n",
              "      <th>1699</th>\n",
              "      <td>9167</td>\n",
              "      <td>Company Business, Strategy, etc.</td>\n",
              "      <td>perspect simpl pie face protest organ sophist ...</td>\n",
              "    </tr>\n",
              "    <tr>\n",
              "      <th>1700</th>\n",
              "      <td>9177</td>\n",
              "      <td>Company Business, Strategy, etc.</td>\n",
              "      <td>jeff prepar attach chart captur idea discuss l...</td>\n",
              "    </tr>\n",
              "    <tr>\n",
              "      <th>1701</th>\n",
              "      <td>9175</td>\n",
              "      <td>Company Business, Strategy, etc.</td>\n",
              "      <td>san francisco texa energi execut said warn ign...</td>\n",
              "    </tr>\n",
              "  </tbody>\n",
              "</table>\n",
              "<p>875 rows × 3 columns</p>\n",
              "</div>\n",
              "      <button class=\"colab-df-convert\" onclick=\"convertToInteractive('df-71fda940-35c2-4df7-8d0c-75f98cdb3695')\"\n",
              "              title=\"Convert this dataframe to an interactive table.\"\n",
              "              style=\"display:none;\">\n",
              "        \n",
              "  <svg xmlns=\"http://www.w3.org/2000/svg\" height=\"24px\"viewBox=\"0 0 24 24\"\n",
              "       width=\"24px\">\n",
              "    <path d=\"M0 0h24v24H0V0z\" fill=\"none\"/>\n",
              "    <path d=\"M18.56 5.44l.94 2.06.94-2.06 2.06-.94-2.06-.94-.94-2.06-.94 2.06-2.06.94zm-11 1L8.5 8.5l.94-2.06 2.06-.94-2.06-.94L8.5 2.5l-.94 2.06-2.06.94zm10 10l.94 2.06.94-2.06 2.06-.94-2.06-.94-.94-2.06-.94 2.06-2.06.94z\"/><path d=\"M17.41 7.96l-1.37-1.37c-.4-.4-.92-.59-1.43-.59-.52 0-1.04.2-1.43.59L10.3 9.45l-7.72 7.72c-.78.78-.78 2.05 0 2.83L4 21.41c.39.39.9.59 1.41.59.51 0 1.02-.2 1.41-.59l7.78-7.78 2.81-2.81c.8-.78.8-2.07 0-2.86zM5.41 20L4 18.59l7.72-7.72 1.47 1.35L5.41 20z\"/>\n",
              "  </svg>\n",
              "      </button>\n",
              "      \n",
              "  <style>\n",
              "    .colab-df-container {\n",
              "      display:flex;\n",
              "      flex-wrap:wrap;\n",
              "      gap: 12px;\n",
              "    }\n",
              "\n",
              "    .colab-df-convert {\n",
              "      background-color: #E8F0FE;\n",
              "      border: none;\n",
              "      border-radius: 50%;\n",
              "      cursor: pointer;\n",
              "      display: none;\n",
              "      fill: #1967D2;\n",
              "      height: 32px;\n",
              "      padding: 0 0 0 0;\n",
              "      width: 32px;\n",
              "    }\n",
              "\n",
              "    .colab-df-convert:hover {\n",
              "      background-color: #E2EBFA;\n",
              "      box-shadow: 0px 1px 2px rgba(60, 64, 67, 0.3), 0px 1px 3px 1px rgba(60, 64, 67, 0.15);\n",
              "      fill: #174EA6;\n",
              "    }\n",
              "\n",
              "    [theme=dark] .colab-df-convert {\n",
              "      background-color: #3B4455;\n",
              "      fill: #D2E3FC;\n",
              "    }\n",
              "\n",
              "    [theme=dark] .colab-df-convert:hover {\n",
              "      background-color: #434B5C;\n",
              "      box-shadow: 0px 1px 3px 1px rgba(0, 0, 0, 0.15);\n",
              "      filter: drop-shadow(0px 1px 2px rgba(0, 0, 0, 0.3));\n",
              "      fill: #FFFFFF;\n",
              "    }\n",
              "  </style>\n",
              "\n",
              "      <script>\n",
              "        const buttonEl =\n",
              "          document.querySelector('#df-71fda940-35c2-4df7-8d0c-75f98cdb3695 button.colab-df-convert');\n",
              "        buttonEl.style.display =\n",
              "          google.colab.kernel.accessAllowed ? 'block' : 'none';\n",
              "\n",
              "        async function convertToInteractive(key) {\n",
              "          const element = document.querySelector('#df-71fda940-35c2-4df7-8d0c-75f98cdb3695');\n",
              "          const dataTable =\n",
              "            await google.colab.kernel.invokeFunction('convertToInteractive',\n",
              "                                                     [key], {});\n",
              "          if (!dataTable) return;\n",
              "\n",
              "          const docLinkHtml = 'Like what you see? Visit the ' +\n",
              "            '<a target=\"_blank\" href=https://colab.research.google.com/notebooks/data_table.ipynb>data table notebook</a>'\n",
              "            + ' to learn more about interactive tables.';\n",
              "          element.innerHTML = '';\n",
              "          dataTable['output_type'] = 'display_data';\n",
              "          await google.colab.output.renderOutput(dataTable, element);\n",
              "          const docLink = document.createElement('div');\n",
              "          docLink.innerHTML = docLinkHtml;\n",
              "          element.appendChild(docLink);\n",
              "        }\n",
              "      </script>\n",
              "    </div>\n",
              "  </div>\n",
              "  "
            ]
          },
          "metadata": {},
          "execution_count": 40
        }
      ]
    },
    {
      "cell_type": "code",
      "source": [
        "# Vectorization\n",
        "vectorizer = TfidfVectorizer()\n",
        "X = vectorizer.fit_transform(df['Message'])\n",
        "\n",
        "# Normalization\n",
        "scaler = StandardScaler(with_mean=False)\n",
        "X = scaler.fit_transform(X)\n",
        "\n",
        "# Split the data into training and testing sets\n",
        "X_train, X_test, y_train, y_test = train_test_split(X, df['Label'], test_size=0.2, random_state=0)"
      ],
      "metadata": {
        "id": "YGnGDrz7rihv"
      },
      "execution_count": 42,
      "outputs": []
    },
    {
      "cell_type": "code",
      "source": [
        "\"\"\"\n",
        "Naive Bayes\n",
        "\"\"\"\n",
        "# Train the model\n",
        "nb = MultinomialNB()\n",
        "nb.fit(X_train, y_train)\n",
        "\n",
        "# Predict on the test set\n",
        "y_pred = nb.predict(X_test)\n",
        "\n",
        "# Evaluate the model\n",
        "print(\"Accuracy:\", accuracy_score(y_test, y_pred))\n",
        "print(\"\\nClassification Report:\\n\", classification_report(y_test, y_pred))"
      ],
      "metadata": {
        "id": "vGrSqXgArie4",
        "colab": {
          "base_uri": "https://localhost:8080/"
        },
        "outputId": "e21d3ac7-c5c0-4ab0-91d8-fe492fb56fbf"
      },
      "execution_count": 46,
      "outputs": [
        {
          "output_type": "stream",
          "name": "stdout",
          "text": [
            "Accuracy: 0.2914285714285714\n",
            "\n",
            "Classification Report:\n",
            "                                       precision    recall  f1-score   support\n",
            "\n",
            "    Company Business, Strategy, etc.       0.79      0.29      0.43        89\n",
            "           Document editing/checking       0.05      0.14      0.07         7\n",
            "               Logistic Arrangements       0.62      0.30      0.40        61\n",
            "Personal but in professional context       0.08      0.25      0.12         8\n",
            "                     Purely Personal       0.00      0.00      0.00         4\n",
            "                 Status arrangements       0.07      0.67      0.12         6\n",
            "\n",
            "                            accuracy                           0.29       175\n",
            "                           macro avg       0.27      0.27      0.19       175\n",
            "                        weighted avg       0.62      0.29      0.37       175\n",
            "\n"
          ]
        }
      ]
    },
    {
      "cell_type": "code",
      "source": [
        "#Random Forest\n",
        "\n",
        "# Train a Random Forest classifier on the training data\n",
        "clf = RandomForestClassifier(n_estimators=100, random_state=42)\n",
        "clf.fit(X_train, y_train)\n",
        "\n",
        "# Make predictions on the test data\n",
        "y_pred = clf.predict(X_test)\n",
        "\n",
        "# Evaluate the performance of the classifier\n",
        "print(\"Accuracy:\", accuracy_score(y_test, y_pred))\n",
        "print(classification_report(y_test, y_pred))"
      ],
      "metadata": {
        "colab": {
          "base_uri": "https://localhost:8080/"
        },
        "id": "5jREoUDNt7RE",
        "outputId": "a25f92b5-f5d7-4801-db6b-fa86a4a8497d"
      },
      "execution_count": 44,
      "outputs": [
        {
          "output_type": "stream",
          "name": "stdout",
          "text": [
            "Accuracy: 0.6171428571428571\n",
            "                                      precision    recall  f1-score   support\n",
            "\n",
            "    Company Business, Strategy, etc.       0.62      0.93      0.74        89\n",
            "           Document editing/checking       0.00      0.00      0.00         7\n",
            "               Logistic Arrangements       0.65      0.39      0.49        61\n",
            "Personal but in professional context       0.00      0.00      0.00         8\n",
            "                     Purely Personal       0.00      0.00      0.00         4\n",
            "                 Status arrangements       0.33      0.17      0.22         6\n",
            "\n",
            "                            accuracy                           0.62       175\n",
            "                           macro avg       0.27      0.25      0.24       175\n",
            "                        weighted avg       0.55      0.62      0.56       175\n",
            "\n"
          ]
        },
        {
          "output_type": "stream",
          "name": "stderr",
          "text": [
            "/usr/local/lib/python3.8/dist-packages/sklearn/metrics/_classification.py:1318: UndefinedMetricWarning: Precision and F-score are ill-defined and being set to 0.0 in labels with no predicted samples. Use `zero_division` parameter to control this behavior.\n",
            "  _warn_prf(average, modifier, msg_start, len(result))\n",
            "/usr/local/lib/python3.8/dist-packages/sklearn/metrics/_classification.py:1318: UndefinedMetricWarning: Precision and F-score are ill-defined and being set to 0.0 in labels with no predicted samples. Use `zero_division` parameter to control this behavior.\n",
            "  _warn_prf(average, modifier, msg_start, len(result))\n",
            "/usr/local/lib/python3.8/dist-packages/sklearn/metrics/_classification.py:1318: UndefinedMetricWarning: Precision and F-score are ill-defined and being set to 0.0 in labels with no predicted samples. Use `zero_division` parameter to control this behavior.\n",
            "  _warn_prf(average, modifier, msg_start, len(result))\n"
          ]
        }
      ]
    },
    {
      "cell_type": "code",
      "source": [
        "#Support Vector Machine\n",
        "\n",
        "\n",
        "# Train a SVM classifier on the training data\n",
        "clf = SVC(kernel='linear', C=1, random_state=42)\n",
        "clf.fit(X_train, y_train)\n",
        "\n",
        "# Make predictions on the test data\n",
        "y_pred = clf.predict(X_test)\n",
        "\n",
        "# Evaluate the performance of the classifier\n",
        "print(\"Accuracy:\", accuracy_score(y_test, y_pred))\n",
        "print(classification_report(y_test, y_pred))\n"
      ],
      "metadata": {
        "id": "iT5IcNBlugEk",
        "colab": {
          "base_uri": "https://localhost:8080/"
        },
        "outputId": "db22e55d-8996-41e2-b1c6-a05c55dca34f"
      },
      "execution_count": 45,
      "outputs": [
        {
          "output_type": "stream",
          "name": "stdout",
          "text": [
            "Accuracy: 0.6114285714285714\n",
            "                                      precision    recall  f1-score   support\n",
            "\n",
            "    Company Business, Strategy, etc.       0.61      0.90      0.73        89\n",
            "           Document editing/checking       0.00      0.00      0.00         7\n",
            "               Logistic Arrangements       0.65      0.43      0.51        61\n",
            "Personal but in professional context       0.00      0.00      0.00         8\n",
            "                     Purely Personal       0.00      0.00      0.00         4\n",
            "                 Status arrangements       0.33      0.17      0.22         6\n",
            "\n",
            "                            accuracy                           0.61       175\n",
            "                           macro avg       0.27      0.25      0.24       175\n",
            "                        weighted avg       0.55      0.61      0.56       175\n",
            "\n"
          ]
        },
        {
          "output_type": "stream",
          "name": "stderr",
          "text": [
            "/usr/local/lib/python3.8/dist-packages/sklearn/metrics/_classification.py:1318: UndefinedMetricWarning: Precision and F-score are ill-defined and being set to 0.0 in labels with no predicted samples. Use `zero_division` parameter to control this behavior.\n",
            "  _warn_prf(average, modifier, msg_start, len(result))\n",
            "/usr/local/lib/python3.8/dist-packages/sklearn/metrics/_classification.py:1318: UndefinedMetricWarning: Precision and F-score are ill-defined and being set to 0.0 in labels with no predicted samples. Use `zero_division` parameter to control this behavior.\n",
            "  _warn_prf(average, modifier, msg_start, len(result))\n",
            "/usr/local/lib/python3.8/dist-packages/sklearn/metrics/_classification.py:1318: UndefinedMetricWarning: Precision and F-score are ill-defined and being set to 0.0 in labels with no predicted samples. Use `zero_division` parameter to control this behavior.\n",
            "  _warn_prf(average, modifier, msg_start, len(result))\n"
          ]
        }
      ]
    },
    {
      "cell_type": "code",
      "source": [
        "\n",
        "# Get the messages as a list of lists of words\n",
        "messages = df['Message'].apply(lambda x: x.split()).tolist()\n",
        "\n",
        "# Train the CBOW word2vec model\n",
        "model = Word2Vec(messages, sg=0, size=100, window=5, min_count=1, negative=10, iter=100, seed=0)\n",
        "\n",
        "# Split the data into train and test sets\n",
        "train_df, test_df = train_test_split(df, test_size=0.2, random_state=0)\n",
        "\n",
        "# Get the train and test labels and messages\n",
        "train_labels = train_df['Label'].tolist()\n",
        "train_messages = train_df['Message'].apply(lambda x: x.split()).tolist()\n",
        "test_labels = test_df['Label'].tolist()\n",
        "test_messages = test_df['Message'].apply(lambda x: x.split()).tolist()\n",
        "\n",
        "# Convert the messages to average word vectors\n",
        "train_vectors = np.zeros((len(train_messages), 100))\n",
        "for i, message in enumerate(train_messages):\n",
        "    vectors = np.zeros((100,))\n",
        "    for word in message:\n",
        "        if word in model.wv:\n",
        "            vectors += model.wv[word]\n",
        "    vectors = vectors / len(message)\n",
        "    train_vectors[i] = vectors\n",
        "\n",
        "test_vectors = np.zeros((len(test_messages), 100))\n",
        "for i, message in enumerate(test_messages):\n",
        "    vectors = np.zeros((100,))\n",
        "    for word in message:\n",
        "        if word in model.wv:\n",
        "            vectors += model.wv[word]\n",
        "    vectors = vectors / len(message)\n",
        "    test_vectors[i] = vectors\n",
        "\n",
        "# Train a classifier on the train data\n",
        "classifier = SVC(kernel='linear', C=1)\n",
        "classifier.fit(train_vectors, train_labels)\n",
        "\n",
        "# Predict the labels for the test data\n",
        "predictions = classifier.predict(test_vectors)\n",
        "\n",
        "# Evaluate the model using metrics such as accuracy, precision, recall, and F1-score\n",
        "accuracy = accuracy_score(test_labels, predictions)\n",
        "precision = precision_score(test_labels, predictions, average='weighted', zero_division=0)\n",
        "recall = recall_score(test_labels, predictions, average='weighted')\n",
        "f1_score = f1_score(test_labels, predictions, average='weighted')\n",
        "\n",
        "print(\"Accuracy:\", accuracy)\n",
        "print(\"Precision:\", precision)\n",
        "print(\"Recall:\", recall)\n",
        "print(\"F1-Score:\", f1_score)\n"
      ],
      "metadata": {
        "id": "P1PS8Wwy4WTl",
        "colab": {
          "base_uri": "https://localhost:8080/"
        },
        "outputId": "f1886559-4375-4e4c-96f5-654fb9b49f36"
      },
      "execution_count": 50,
      "outputs": [
        {
          "output_type": "stream",
          "name": "stdout",
          "text": [
            "Accuracy: 0.6228571428571429\n",
            "Precision: 0.5433916038188238\n",
            "Recall: 0.6228571428571429\n",
            "F1-Score: 0.5776587070471754\n"
          ]
        }
      ]
    },
    {
      "cell_type": "code",
      "source": [],
      "metadata": {
        "id": "FcEPTj3nRiUr"
      },
      "execution_count": null,
      "outputs": []
    }
  ]
}