{
  "nbformat": 4,
  "nbformat_minor": 0,
  "metadata": {
    "colab": {
      "provenance": [],
      "authorship_tag": "ABX9TyPcrpJiv3ALJ8qmbm8nLlNY",
      "include_colab_link": true
    },
    "kernelspec": {
      "name": "python3",
      "display_name": "Python 3"
    },
    "language_info": {
      "name": "python"
    }
  },
  "cells": [
    {
      "cell_type": "markdown",
      "metadata": {
        "id": "view-in-github",
        "colab_type": "text"
      },
      "source": [
        "<a href=\"https://colab.research.google.com/github/sohamtalukdar/Enron-Email-Analysis/blob/main/Vlabs.ipynb\" target=\"_parent\"><img src=\"https://colab.research.google.com/assets/colab-badge.svg\" alt=\"Open In Colab\"/></a>"
      ]
    },
    {
      "cell_type": "code",
      "execution_count": null,
      "metadata": {
        "colab": {
          "base_uri": "https://localhost:8080/"
        },
        "id": "TtE8NqFIVqCh",
        "outputId": "bca084da-8fe3-48d6-f000-368802301d4d"
      },
      "outputs": [
        {
          "output_type": "stream",
          "name": "stdout",
          "text": [
            "Drive already mounted at /content/drive; to attempt to forcibly remount, call drive.mount(\"/content/drive\", force_remount=True).\n"
          ]
        }
      ],
      "source": [
        "from google.colab import drive\n",
        "\n",
        "# This will prompt for authorization.\n",
        "drive.mount('/content/drive')"
      ]
    },
    {
      "cell_type": "code",
      "source": [
        "!mkdir \"/content/drive/MyDrive/maildir/\"\n",
        "!tar -xzvf \"/content/drive/MyDrive/enron_with_categories.tar.gz\" -C \"/content/drive/MyDrive/maildir/\""
      ],
      "metadata": {
        "id": "zjub9pFfV9Gs"
      },
      "execution_count": null,
      "outputs": []
    },
    {
      "cell_type": "code",
      "source": [
        "import csv\n",
        "\n",
        "with open(\"/content/drive/MyDrive/maildir/enron_with_categories/1/173998.txt\") as f:\n",
        "    data = f.read()\n",
        "\n",
        "fields = [\"Message-ID\", \"Date\", \"From\", \"To\", \"Subject\", \"Cc\", \"Mime-Version\", \"Content-Type\", \"Content-Transfer-Encoding\", \"Bcc\", \"X-From\", \"X-To\", \"X-cc\", \"X-bcc\", \"X-Folder\", \"X-Origin\", \"X-FileName\", \"Message Body\"]\n",
        "rows = data.split(\"\\n\")\n",
        "email_dict = {}\n",
        "message_body = \"\"\n",
        "for row in rows:\n",
        "    for field in fields:\n",
        "        if field in row:\n",
        "            email_dict[field] = row.split(\": \")[1]\n",
        "    if not any(field in row for field in fields):\n",
        "        message_body += row + \"\\n\"\n",
        "\n",
        "email_dict[\"Message Body\"] = message_body\n",
        "\n",
        "with open(\"email.csv\", \"w\", newline=\"\") as f:\n",
        "    writer = csv.DictWriter(f, fieldnames=fields)\n",
        "    writer.writeheader()\n",
        "    writer.writerow(email_dict)\n"
      ],
      "metadata": {
        "id": "Y6UFViSKYwgv"
      },
      "execution_count": null,
      "outputs": []
    },
    {
      "cell_type": "code",
      "source": [
        "import pandas as pd \n",
        "pd.read_csv(\"/content/email.csv\")"
      ],
      "metadata": {
        "colab": {
          "base_uri": "https://localhost:8080/",
          "height": 266
        },
        "id": "j_nrh68N8msY",
        "outputId": "f3bacd8a-804f-4454-d7ae-c4d1b6745c63"
      },
      "execution_count": null,
      "outputs": [
        {
          "output_type": "execute_result",
          "data": {
            "text/plain": [
              "                                      Message-ID  \\\n",
              "0  <16727181.1075846164914.JavaMail.evans@thyme>   \n",
              "\n",
              "                                   Date           From  \\\n",
              "0  Tue, 8 Aug 2000 05:54:00 -0700 (PDT)  Steven J Kean   \n",
              "\n",
              "                                             To            Subject  \\\n",
              "0  \"'Adhoc Advisors'\" <Rhonda_Roo_00@yahoo.com>  More great press!   \n",
              "\n",
              "                          Cc  Mime-Version                  Content-Type  \\\n",
              "0  richard.shapiro@enron.com           1.0  text/plain; charset=us-ascii   \n",
              "\n",
              "  Content-Transfer-Encoding                        Bcc         X-From  \\\n",
              "0                      7bit  richard.shapiro@enron.com  Steven J Kean   \n",
              "\n",
              "                     X-To             X-cc  X-bcc  \\\n",
              "0  GFoster@Antigenics.com  Richard Shapiro    NaN   \n",
              "\n",
              "                                            X-Folder X-Origin X-FileName  \\\n",
              "0  \\Steven_Kean_Dec2000_1\\Notes Folders\\All docum...   KEAN-S  skean.nsf   \n",
              "\n",
              "                                        Message Body  \n",
              "0  \\nDid you see Peggy Noonan's article?  Shapiro...  "
            ],
            "text/html": [
              "\n",
              "  <div id=\"df-96fb7f4f-30d7-434b-aafb-e4e52e6da167\">\n",
              "    <div class=\"colab-df-container\">\n",
              "      <div>\n",
              "<style scoped>\n",
              "    .dataframe tbody tr th:only-of-type {\n",
              "        vertical-align: middle;\n",
              "    }\n",
              "\n",
              "    .dataframe tbody tr th {\n",
              "        vertical-align: top;\n",
              "    }\n",
              "\n",
              "    .dataframe thead th {\n",
              "        text-align: right;\n",
              "    }\n",
              "</style>\n",
              "<table border=\"1\" class=\"dataframe\">\n",
              "  <thead>\n",
              "    <tr style=\"text-align: right;\">\n",
              "      <th></th>\n",
              "      <th>Message-ID</th>\n",
              "      <th>Date</th>\n",
              "      <th>From</th>\n",
              "      <th>To</th>\n",
              "      <th>Subject</th>\n",
              "      <th>Cc</th>\n",
              "      <th>Mime-Version</th>\n",
              "      <th>Content-Type</th>\n",
              "      <th>Content-Transfer-Encoding</th>\n",
              "      <th>Bcc</th>\n",
              "      <th>X-From</th>\n",
              "      <th>X-To</th>\n",
              "      <th>X-cc</th>\n",
              "      <th>X-bcc</th>\n",
              "      <th>X-Folder</th>\n",
              "      <th>X-Origin</th>\n",
              "      <th>X-FileName</th>\n",
              "      <th>Message Body</th>\n",
              "    </tr>\n",
              "  </thead>\n",
              "  <tbody>\n",
              "    <tr>\n",
              "      <th>0</th>\n",
              "      <td>&lt;16727181.1075846164914.JavaMail.evans@thyme&gt;</td>\n",
              "      <td>Tue, 8 Aug 2000 05:54:00 -0700 (PDT)</td>\n",
              "      <td>Steven J Kean</td>\n",
              "      <td>\"'Adhoc Advisors'\" &lt;Rhonda_Roo_00@yahoo.com&gt;</td>\n",
              "      <td>More great press!</td>\n",
              "      <td>richard.shapiro@enron.com</td>\n",
              "      <td>1.0</td>\n",
              "      <td>text/plain; charset=us-ascii</td>\n",
              "      <td>7bit</td>\n",
              "      <td>richard.shapiro@enron.com</td>\n",
              "      <td>Steven J Kean</td>\n",
              "      <td>GFoster@Antigenics.com</td>\n",
              "      <td>Richard Shapiro</td>\n",
              "      <td>NaN</td>\n",
              "      <td>\\Steven_Kean_Dec2000_1\\Notes Folders\\All docum...</td>\n",
              "      <td>KEAN-S</td>\n",
              "      <td>skean.nsf</td>\n",
              "      <td>\\nDid you see Peggy Noonan's article?  Shapiro...</td>\n",
              "    </tr>\n",
              "  </tbody>\n",
              "</table>\n",
              "</div>\n",
              "      <button class=\"colab-df-convert\" onclick=\"convertToInteractive('df-96fb7f4f-30d7-434b-aafb-e4e52e6da167')\"\n",
              "              title=\"Convert this dataframe to an interactive table.\"\n",
              "              style=\"display:none;\">\n",
              "        \n",
              "  <svg xmlns=\"http://www.w3.org/2000/svg\" height=\"24px\"viewBox=\"0 0 24 24\"\n",
              "       width=\"24px\">\n",
              "    <path d=\"M0 0h24v24H0V0z\" fill=\"none\"/>\n",
              "    <path d=\"M18.56 5.44l.94 2.06.94-2.06 2.06-.94-2.06-.94-.94-2.06-.94 2.06-2.06.94zm-11 1L8.5 8.5l.94-2.06 2.06-.94-2.06-.94L8.5 2.5l-.94 2.06-2.06.94zm10 10l.94 2.06.94-2.06 2.06-.94-2.06-.94-.94-2.06-.94 2.06-2.06.94z\"/><path d=\"M17.41 7.96l-1.37-1.37c-.4-.4-.92-.59-1.43-.59-.52 0-1.04.2-1.43.59L10.3 9.45l-7.72 7.72c-.78.78-.78 2.05 0 2.83L4 21.41c.39.39.9.59 1.41.59.51 0 1.02-.2 1.41-.59l7.78-7.78 2.81-2.81c.8-.78.8-2.07 0-2.86zM5.41 20L4 18.59l7.72-7.72 1.47 1.35L5.41 20z\"/>\n",
              "  </svg>\n",
              "      </button>\n",
              "      \n",
              "  <style>\n",
              "    .colab-df-container {\n",
              "      display:flex;\n",
              "      flex-wrap:wrap;\n",
              "      gap: 12px;\n",
              "    }\n",
              "\n",
              "    .colab-df-convert {\n",
              "      background-color: #E8F0FE;\n",
              "      border: none;\n",
              "      border-radius: 50%;\n",
              "      cursor: pointer;\n",
              "      display: none;\n",
              "      fill: #1967D2;\n",
              "      height: 32px;\n",
              "      padding: 0 0 0 0;\n",
              "      width: 32px;\n",
              "    }\n",
              "\n",
              "    .colab-df-convert:hover {\n",
              "      background-color: #E2EBFA;\n",
              "      box-shadow: 0px 1px 2px rgba(60, 64, 67, 0.3), 0px 1px 3px 1px rgba(60, 64, 67, 0.15);\n",
              "      fill: #174EA6;\n",
              "    }\n",
              "\n",
              "    [theme=dark] .colab-df-convert {\n",
              "      background-color: #3B4455;\n",
              "      fill: #D2E3FC;\n",
              "    }\n",
              "\n",
              "    [theme=dark] .colab-df-convert:hover {\n",
              "      background-color: #434B5C;\n",
              "      box-shadow: 0px 1px 3px 1px rgba(0, 0, 0, 0.15);\n",
              "      filter: drop-shadow(0px 1px 2px rgba(0, 0, 0, 0.3));\n",
              "      fill: #FFFFFF;\n",
              "    }\n",
              "  </style>\n",
              "\n",
              "      <script>\n",
              "        const buttonEl =\n",
              "          document.querySelector('#df-96fb7f4f-30d7-434b-aafb-e4e52e6da167 button.colab-df-convert');\n",
              "        buttonEl.style.display =\n",
              "          google.colab.kernel.accessAllowed ? 'block' : 'none';\n",
              "\n",
              "        async function convertToInteractive(key) {\n",
              "          const element = document.querySelector('#df-96fb7f4f-30d7-434b-aafb-e4e52e6da167');\n",
              "          const dataTable =\n",
              "            await google.colab.kernel.invokeFunction('convertToInteractive',\n",
              "                                                     [key], {});\n",
              "          if (!dataTable) return;\n",
              "\n",
              "          const docLinkHtml = 'Like what you see? Visit the ' +\n",
              "            '<a target=\"_blank\" href=https://colab.research.google.com/notebooks/data_table.ipynb>data table notebook</a>'\n",
              "            + ' to learn more about interactive tables.';\n",
              "          element.innerHTML = '';\n",
              "          dataTable['output_type'] = 'display_data';\n",
              "          await google.colab.output.renderOutput(dataTable, element);\n",
              "          const docLink = document.createElement('div');\n",
              "          docLink.innerHTML = docLinkHtml;\n",
              "          element.appendChild(docLink);\n",
              "        }\n",
              "      </script>\n",
              "    </div>\n",
              "  </div>\n",
              "  "
            ]
          },
          "metadata": {},
          "execution_count": 18
        }
      ]
    },
    {
      "cell_type": "code",
      "source": [],
      "metadata": {
        "id": "La24VhLY99eA"
      },
      "execution_count": null,
      "outputs": []
    }
  ]
}