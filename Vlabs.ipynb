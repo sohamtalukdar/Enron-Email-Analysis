{
  "nbformat": 4,
  "nbformat_minor": 0,
  "metadata": {
    "colab": {
      "provenance": [],
      "authorship_tag": "ABX9TyOnE5NU3tLnb938pdhqUva3",
      "include_colab_link": true
    },
    "kernelspec": {
      "name": "python3",
      "display_name": "Python 3"
    },
    "language_info": {
      "name": "python"
    }
  },
  "cells": [
    {
      "cell_type": "markdown",
      "metadata": {
        "id": "view-in-github",
        "colab_type": "text"
      },
      "source": [
        "<a href=\"https://colab.research.google.com/github/sohamtalukdar/Enron-Email-Analysis/blob/main/Vlabs.ipynb\" target=\"_parent\"><img src=\"https://colab.research.google.com/assets/colab-badge.svg\" alt=\"Open In Colab\"/></a>"
      ]
    },
    {
      "cell_type": "code",
      "execution_count": 13,
      "metadata": {
        "id": "TtE8NqFIVqCh",
        "colab": {
          "base_uri": "https://localhost:8080/"
        },
        "outputId": "d8f313c7-7c91-44f8-d9e2-396e721a50e9"
      },
      "outputs": [
        {
          "output_type": "stream",
          "name": "stdout",
          "text": [
            "Drive already mounted at /content/drive; to attempt to forcibly remount, call drive.mount(\"/content/drive\", force_remount=True).\n"
          ]
        }
      ],
      "source": [
        "from google.colab import drive\n",
        "\n",
        "# This will prompt for authorization.\n",
        "drive.mount('/content/drive')"
      ]
    },
    {
      "cell_type": "code",
      "source": [
        "!mkdir \"/content/drive/MyDrive/maildir/\"\n",
        "!tar -xzvf \"/content/drive/MyDrive/enron_with_categories.tar.gz\" -C \"/content/drive/MyDrive/maildir/\""
      ],
      "metadata": {
        "id": "zjub9pFfV9Gs"
      },
      "execution_count": null,
      "outputs": []
    },
    {
      "cell_type": "code",
      "source": [
        "import os\n",
        "import csv\n",
        "import numpy as np\n",
        "import pandas as pd\n",
        "import nltk\n",
        "nltk.download('punkt')\n",
        "nltk.download('stopwords')\n",
        "from nltk.tokenize import word_tokenize\n",
        "from nltk.corpus import stopwords\n",
        "from nltk.stem import PorterStemmer\n",
        "from sklearn.feature_extraction.text import TfidfVectorizer\n",
        "import string\n",
        "from sklearn.model_selection import train_test_split\n",
        "from sklearn.feature_extraction.text import CountVectorizer"
      ],
      "metadata": {
        "id": "DMND11GOR5J1",
        "colab": {
          "base_uri": "https://localhost:8080/"
        },
        "outputId": "fefca44e-bc58-4e0a-e5be-8b1d2d734cf0"
      },
      "execution_count": 84,
      "outputs": [
        {
          "output_type": "stream",
          "name": "stderr",
          "text": [
            "[nltk_data] Downloading package punkt to /root/nltk_data...\n",
            "[nltk_data]   Package punkt is already up-to-date!\n",
            "[nltk_data] Downloading package stopwords to /root/nltk_data...\n",
            "[nltk_data]   Package stopwords is already up-to-date!\n"
          ]
        }
      ]
    },
    {
      "cell_type": "code",
      "source": [
        "# Map folder names to label values\n",
        "labels = {\n",
        "    \"1\": \"Company Business, Strategy, etc.\",\n",
        "    \"2\": \"Purely Personal\",\n",
        "    \"3\": \"Personal but in professional context\",\n",
        "    \"4\": \"Logistic Arrangements\",\n",
        "    \"5\": \"Status arrangements\",\n",
        "    \"6\": \"Document editing/checking\",\n",
        "    \"7\": \"Empty message (due to missing attachment)\",\n",
        "    \"8\": \"Empty message\"\n",
        "}\n",
        "\n",
        "root_directory = '/content/drive/MyDrive/maildir/enron_with_categories'\n",
        "rows = []\n",
        "\n",
        "for folder_name in os.listdir(root_directory):\n",
        "    folder_path = os.path.join(root_directory, folder_name)\n",
        "    if os.path.isdir(folder_path):\n",
        "        label = labels[folder_name]\n",
        "        for filename in os.listdir(folder_path):\n",
        "            if filename.endswith(\".txt\"):\n",
        "                with open(os.path.join(folder_path, filename), 'r') as f:\n",
        "                    data = f.read()\n",
        "                    message_body = data.split(\"\\n\\n\")[-1]\n",
        "                    number = int(filename.split(\".\")[0])\n",
        "                    rows.append({\"Message\": message_body, \"Label\": label, \"#\": number})\n",
        "\n",
        "# Load the data into a pandas DataFrame\n",
        "df = pd.DataFrame(rows, columns=['#', 'Label', 'Message'])\n",
        "\n",
        "# Handle missing values\n",
        "df.fillna(df.mean(), inplace=True)\n",
        "\n",
        "# Remove duplicates\n",
        "df.drop_duplicates(inplace=True)\n",
        "\n",
        "# Encoding categorical variables\n",
        "df = pd.get_dummies(df, columns=[\"Label\"])\n",
        "\n",
        "# Dropping rows with NaN values\n",
        "df.dropna(subset=[\"Message\"], inplace=True)\n",
        "df = df[~df['Message'].isin([np.inf, -np.inf])]\n",
        "\n",
        "# Check for NaN values\n",
        "print(df[df.isnull().any(axis=1)])\n",
        "\n",
        "# Check for infinite values\n",
        "print(df.replace([np.inf, -np.inf], np.nan).isnull().sum().sum())\n",
        "\n",
        "# Download stopwords and stemmer\n",
        "nltk.download('stopwords')\n",
        "stop_words = set(stopwords.words('english'))\n",
        "stemmer = PorterStemmer()\n",
        "punctuation = string.punctuation\n",
        "\n",
        "def preprocess_text(text):\n",
        "    # Lowercase the text\n",
        "    text = text.lower()\n",
        "    \n",
        "    # Tokenize the text\n",
        "    words = word_tokenize(text)\n",
        "    \n",
        "    # Remove stop words\n",
        "    words = [word for word in words if word not in stop_words]\n",
        "    \n",
        "    # Stem the words\n",
        "    words = [stemmer.stem(word) for word in words]\n",
        "    \n",
        "    # Rejoin the words into a single string\n",
        "    text = \" \".join(words)\n",
        "    \n",
        "    return text\n",
        "\n",
        "df[\"Message\"] = df[\"Message\"].apply(preprocess_text)\n"
      ],
      "metadata": {
        "id": "adU8npUuHmzf",
        "colab": {
          "base_uri": "https://localhost:8080/"
        },
        "outputId": "ccbfa1ae-7712-45c0-8da9-bbfb19f43ef2"
      },
      "execution_count": 85,
      "outputs": [
        {
          "output_type": "stream",
          "name": "stderr",
          "text": [
            "<ipython-input-85-a6b83e37fcd1>:32: FutureWarning: Dropping of nuisance columns in DataFrame reductions (with 'numeric_only=None') is deprecated; in a future version this will raise TypeError.  Select only valid columns before calling the reduction.\n",
            "  df.fillna(df.mean(), inplace=True)\n",
            "[nltk_data] Downloading package stopwords to /root/nltk_data...\n",
            "[nltk_data]   Package stopwords is already up-to-date!\n"
          ]
        },
        {
          "output_type": "stream",
          "name": "stdout",
          "text": [
            "Empty DataFrame\n",
            "Columns: [#, Message, Label_Company Business, Strategy, etc., Label_Document editing/checking, Label_Empty message, Label_Empty message (due to missing attachment), Label_Logistic Arrangements, Label_Personal but in professional context, Label_Purely Personal, Label_Status arrangements]\n",
            "Index: []\n",
            "0\n"
          ]
        }
      ]
    },
    {
      "cell_type": "code",
      "source": [
        "# Splitting the data into train and test sets\n",
        "from sklearn.model_selection import train_test_split\n",
        "\n",
        "X = df[\"Message\"].values\n",
        "y = df.iloc[:, 3:].values\n",
        "\n",
        "X_train, X_test, y_train, y_test = train_test_split(X, y, test_size=0.2, random_state=42)\n",
        "\n",
        "vectorizer = CountVectorizer()\n",
        "X_train_vectorized = vectorizer.fit_transform(X_train)\n",
        "X_test_vectorized = vectorizer.transform(X_test)\n"
      ],
      "metadata": {
        "id": "wESLo6BPJBwq"
      },
      "execution_count": 86,
      "outputs": []
    },
    {
      "cell_type": "code",
      "source": [
        "# Convert y_train to a 1D array\n",
        "# y_train = y_train.values.ravel()\n",
        "y_test = y_test.reshape(-1,)\n",
        "\n",
        "\n",
        "# Training a Multinomial Naive Bayes classifier\n",
        "from sklearn.naive_bayes import MultinomialNB\n",
        "clf = MultinomialNB()\n",
        "clf.fit(X_train_vectorized, y_train)\n",
        "\n",
        "# Making predictions on the test set\n",
        "y_pred = clf.predict(X_test_vectorized)\n",
        "\n",
        "# Evaluating the performance of the classifier\n",
        "from sklearn.metrics import accuracy_score, f1_score\n",
        "print(\"Accuracy: \", accuracy_score(y_test, y_pred))\n",
        "print(\"F1 Score: \", f1_score(y_test, y_pred, average='weighted'))\n"
      ],
      "metadata": {
        "id": "yYrE1Bs3JDpI"
      },
      "execution_count": null,
      "outputs": []
    }
  ]
}