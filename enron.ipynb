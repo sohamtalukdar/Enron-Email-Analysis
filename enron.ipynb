{
 "cells": [
  {
   "cell_type": "code",
   "execution_count": 7,
   "metadata": {},
   "outputs": [],
   "source": [
    "import pandas as pd \n",
    "import csv\n",
    "import os"
   ]
  },
  {
   "cell_type": "code",
   "execution_count": 11,
   "metadata": {},
   "outputs": [],
   "source": [
    "# Map folder names to label values\n",
    "labels = {\n",
    "    \"1\": \"Company Business, Strategy, etc.\",\n",
    "    \"2\": \"Purely Personal\",\n",
    "    \"3\": \"Personal but in professional context\",\n",
    "    \"4\": \"Logistic Arrangements\",\n",
    "    \"5\": \"Status arrangements\",\n",
    "    \"6\": \"Document editing/checking\",\n",
    "    \"7\": \"Empty message\",\n",
    "    \"8\": \"Empty message\"\n",
    "}\n",
    "\n",
    "root_directory = 'enron_with_categories/'\n",
    "fields = [ \"#\",\"Label\", \"Message\"]\n",
    "rows = []\n",
    "\n",
    "for folder_name in os.listdir(root_directory):\n",
    "    folder_path = os.path.join(root_directory, folder_name)\n",
    "    if os.path.isdir(folder_path):\n",
    "        label = labels[folder_name]\n",
    "        for filename in os.listdir(folder_path):\n",
    "            if filename.endswith(\".txt\"):\n",
    "                with open(os.path.join(folder_path, filename), 'r') as f:\n",
    "                    data = f.read()\n",
    "                    message_body = data.split(\"\\n\\n\")[-1]\n",
    "                    number = int(filename.split(\".\")[0])\n",
    "                    rows.append({\"Message\": message_body, \"Label\": label, \"#\": number})\n",
    "\n",
    "with open(\"email_bodies.csv\", \"w\", newline=\"\") as f:\n",
    "    writer = csv.DictWriter(f, fieldnames=fields)\n",
    "    writer.writeheader()\n",
    "    for row in rows:\n",
    "        writer.writerow(row)\n"
   ]
  },
  {
   "cell_type": "code",
   "execution_count": null,
   "metadata": {},
   "outputs": [],
   "source": []
  }
 ],
 "metadata": {
  "kernelspec": {
   "display_name": "Python 3",
   "language": "python",
   "name": "python3"
  },
  "language_info": {
   "codemirror_mode": {
    "name": "ipython",
    "version": 3
   },
   "file_extension": ".py",
   "mimetype": "text/x-python",
   "name": "python",
   "nbconvert_exporter": "python",
   "pygments_lexer": "ipython3",
   "version": "3.11.1"
  },
  "orig_nbformat": 4,
  "vscode": {
   "interpreter": {
    "hash": "ba5e7a9d41c5c74ee8ea49ce65f81b25954d74698b15de9454c59912eb1a48c1"
   }
  }
 },
 "nbformat": 4,
 "nbformat_minor": 2
}
